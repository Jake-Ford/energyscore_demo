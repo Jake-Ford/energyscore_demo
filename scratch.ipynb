{
 "cells": [
  {
   "cell_type": "code",
   "execution_count": 47,
   "metadata": {},
   "outputs": [],
   "source": [
    "import streamlit as st\n",
    "import pandas as pd\n",
    "import numpy as np\n",
    "import geopandas as gpd  # For handling GeoJSON data\n",
    "import folium\n",
    "import branca.colormap as cm\n",
    "from streamlit_folium import folium_static  # Import to render folium maps in Streamlit\n",
    "from sklearn.metrics import accuracy_score"
   ]
  },
  {
   "cell_type": "code",
   "execution_count": 48,
   "metadata": {},
   "outputs": [
    {
     "name": "stdout",
     "output_type": "stream",
     "text": [
      "0    04265\n",
      "1    33467\n",
      "2    02131\n",
      "3    17968\n",
      "4    94118\n",
      "Name: ZIP, dtype: object\n",
      "0    02457\n",
      "1    02458\n",
      "2    02459\n",
      "3    02460\n",
      "4    02461\n",
      "Name: ZIP, dtype: object\n"
     ]
    }
   ],
   "source": [
    "# Load the GeoJSON file\n",
    "#zip_geojson = gpd.read_file('select_zips.geojson')\n",
    "\n",
    "zip_geojson = gpd.read_file('demo_zips.geojson')\n",
    "\n",
    "# Load person data, forcing ZIP to be read as strings\n",
    "person_data = pd.read_csv('data.csv', dtype={'ZIP': str})\n",
    "\n",
    "# Ensure ZIP codes have leading zeros and handle floats\n",
    "person_data['ZIP'] = person_data['ZIP'].apply(lambda x: str(int(float(x))).zfill(5) if pd.notnull(x) else '')\n",
    "\n",
    "# Ensure GeoJSON ZIP codes are formatted as strings with leading zeros\n",
    "zip_geojson['ZIP'] = zip_geojson['ZCTA5CE10'].astype(str).str.zfill(5)\n",
    "\n",
    "# Check if ZIPs were properly converted\n",
    "print(person_data['ZIP'].head())\n",
    "print(zip_geojson['ZIP'].head())\n"
   ]
  },
  {
   "cell_type": "code",
   "execution_count": 49,
   "metadata": {},
   "outputs": [
    {
     "name": "stderr",
     "output_type": "stream",
     "text": [
      "/var/folders/4_/36zlcy3x3m12nwb2nfhmkkjc0000gp/T/ipykernel_37470/1243698195.py:68: DeprecationWarning: DataFrameGroupBy.apply operated on the grouping columns. This behavior is deprecated, and in a future version of pandas the grouping columns will be excluded from the operation. Either pass `include_groups=False` to exclude the groupings or explicitly select the grouping columns after groupby to silence this warning.\n",
      "  zip_metrics = stats_data_person.groupby('ZIP').apply(calc_metrics)\n"
     ]
    }
   ],
   "source": [
    "# Function to calculate metrics for each ZIP\n",
    "def calculate_zip_metrics(stats_data_person, fico_cutoff, energyscore_cutoff):\n",
    "    # Create masks for conditions\n",
    "    stats_data_person['FICO_PASS'] = stats_data_person['FICO_V9_SCORE'] > fico_cutoff\n",
    "    stats_data_person['ENERGYSCORE_PASS'] = stats_data_person['WEIGHTED_ENERGYSCORE'] > energyscore_cutoff\n",
    "\n",
    "    # Function to calculate various metrics\n",
    "    def calc_metrics(group):\n",
    "        total_population = len(group)\n",
    "        if total_population == 0:\n",
    "            return pd.Series({\n",
    "                'Total Population': 0,\n",
    "                'Percent Below FICO': 0,\n",
    "                'Percent Above FICO': 0,\n",
    "                'FICO Accuracy': np.nan,\n",
    "                'EnergyScore Accuracy': np.nan,\n",
    "                'Qualification Increase': 0,\n",
    "            })\n",
    "        \n",
    "        \n",
    "        below_fico = group[group['FICO_PASS'] == False]\n",
    "        above_fico = group[group['FICO_PASS'] == True]\n",
    "\n",
    "        if len(below_fico) == 0:\n",
    "            return pd.Series({\n",
    "                'Total Population': total_population,\n",
    "                'Percent Below FICO': 0,\n",
    "                'Percent Above FICO': len(above_fico) / total_population,\n",
    "                'FICO Accuracy': np.nan,\n",
    "                'EnergyScore Accuracy': np.nan,\n",
    "                'Qualification Increase': 0,\n",
    "            })\n",
    "\n",
    "        below_fico_pass = below_fico[below_fico['WEIGHTED_ENERGYSCORE'] <= energyscore_cutoff]\n",
    "        below_fico_fail = below_fico[below_fico['WEIGHTED_ENERGYSCORE'] > energyscore_cutoff]\n",
    "\n",
    "        pct_below_fico = len(below_fico) / total_population\n",
    "        pct_above_fico = len(above_fico) / total_population\n",
    "\n",
    "        if len(below_fico_pass) == 0:\n",
    "            percent_increase_in_qualifications = 0\n",
    "        else:\n",
    "            percent_increase_in_qualifications = (len(below_fico_pass) / total_population) * 100\n",
    "\n",
    "        # get FICO accuracy, precision, recall, f1 and roc_auc score\n",
    "       # fico_accuracy = accuracy_score(below_fico['WEIGHTED_ACTUAL_OUTPUT'], below_fico['WEIGHTED_ENERGYSCORE'] > energyscore_cutoff) if len(below_fico) > 0 else np.nan\n",
    "        fico_accuracy = accuracy_score(below_fico['WEIGHTED_ACTUAL_OUTPUT'], below_fico['FICO_PASS']) if len(below_fico) > 0 else np.nan\n",
    "\n",
    "        energy_accuracy = accuracy_score(below_fico['WEIGHTED_ACTUAL_OUTPUT'], below_fico['ENERGYSCORE_PASS']) if len(below_fico) > 0 else np.nan\n",
    "\n",
    "      #  accuracy_increase = energy_accuracy - fico_accuracy\n",
    "\n",
    "        return pd.Series({\n",
    "            'Total Population': total_population,\n",
    "            'Percent Below FICO': pct_below_fico,\n",
    "            'Percent Above FICO': pct_above_fico,\n",
    "            'FICO Accuracy': fico_accuracy,\n",
    "            'EnergyScore Accuracy': energy_accuracy,\n",
    "            'Qualification Increase': percent_increase_in_qualifications,\n",
    "          #  'Accuracy Percentage Increase': accuracy_increase,\n",
    "\n",
    "           # 'Accuracy Percentage Increase': (energy_accuracy - fico_accuracy) / fico_accuracy * 100 if fico_accuracy * energy_accuracy> 0 else 0,\n",
    "           \n",
    "\n",
    "        })\n",
    "\n",
    "    # Group by ZIP and apply metrics calculation\n",
    "    zip_metrics = stats_data_person.groupby('ZIP').apply(calc_metrics)\n",
    "\n",
    "    zip_metrics = zip_metrics.reset_index()\n",
    "    return zip_metrics\n",
    "\n",
    "fico_threshold = 700\n",
    "energy_score_threshold = 0.5\n",
    "# Calculate metrics and merge with geo data\n",
    "zip_metrics = calculate_zip_metrics(person_data, fico_threshold, energy_score_threshold)\n",
    "zip_level_geo = pd.merge(zip_metrics, zip_geojson, on='ZIP', how='left')\n",
    "zip_level_geo = zip_level_geo.dropna(subset=['geometry'])\n",
    "zip_level_geo = gpd.GeoDataFrame(zip_level_geo, geometry='geometry')\n"
   ]
  },
  {
   "cell_type": "code",
   "execution_count": null,
   "metadata": {},
   "outputs": [],
   "source": [
    "zip_level_geo"
   ]
  },
  {
   "cell_type": "code",
   "execution_count": null,
   "metadata": {},
   "outputs": [],
   "source": [
    "\n",
    "\n",
    "def load_state_util(state_name):\n",
    "    if state_name == 'New Mexico':\n",
    "        temp = gpd.read_file('nm_utils.geojson')\n",
    "        temp = temp[['new_name', 'geometry']]\n",
    "        return temp\n",
    "    elif state_name == 'Massachusetts':\n",
    "        return gpd.read_file('ma_utils.geojson')\n",
    "\n",
    "\n",
    "def calculate_zip_to_util(zip_level_geo, util_name, state_name):\n",
    "    # Load the utility data for the state\n",
    "    state_util = load_state_util(state_name)\n",
    "\n",
    "    # Ensure ZIP code geometries have the same projection as the utility data\n",
    "    zip_level_geo = zip_level_geo.to_crs(state_util.crs)\n",
    "\n",
    "    # Convert the ZIP geometries to representative points (instead of centroids)\n",
    "    zip_level_geo['geometry'] = zip_level_geo.representative_point()\n",
    "\n",
    "    # Perform spatial join with utility data based on point locations using predicate\n",
    "    zip_level_geo = gpd.sjoin(zip_level_geo, state_util, how='left', predicate='within')\n",
    "\n",
    "    # Group by utility name ('new_name') and calculate the mean of 'Qualification Increase'\n",
    "    zip_to_util = zip_level_geo.groupby('new_name')['Qualification Increase'].mean().reset_index()\n",
    "\n",
    "    return zip_to_util\n",
    "\n",
    "# Example usage\n",
    "state_name = 'New Mexico'\n",
    "util_name = 'Xcel'\n",
    "zip_to_util = calculate_zip_to_util(zip_level_geo, util_name, state_name)\n",
    "zip_to_util.head()\n"
   ]
  },
  {
   "cell_type": "code",
   "execution_count": null,
   "metadata": {},
   "outputs": [],
   "source": [
    "zip_metrics"
   ]
  },
  {
   "cell_type": "code",
   "execution_count": null,
   "metadata": {},
   "outputs": [],
   "source": [
    "zip_level_geo.shape"
   ]
  },
  {
   "cell_type": "code",
   "execution_count": null,
   "metadata": {},
   "outputs": [],
   "source": [
    "zip_metrics['FICO Accuracy'].mean(),zip_metrics['EnergyScore Accuracy'].mean()"
   ]
  },
  {
   "cell_type": "code",
   "execution_count": null,
   "metadata": {},
   "outputs": [],
   "source": [
    "zip_geojson.head()"
   ]
  },
  {
   "cell_type": "code",
   "execution_count": null,
   "metadata": {},
   "outputs": [],
   "source": []
  }
 ],
 "metadata": {
  "kernelspec": {
   "display_name": "demo_es_st",
   "language": "python",
   "name": "python3"
  },
  "language_info": {
   "codemirror_mode": {
    "name": "ipython",
    "version": 3
   },
   "file_extension": ".py",
   "mimetype": "text/x-python",
   "name": "python",
   "nbconvert_exporter": "python",
   "pygments_lexer": "ipython3",
   "version": "3.10.13"
  }
 },
 "nbformat": 4,
 "nbformat_minor": 2
}
